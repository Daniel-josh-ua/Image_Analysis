{
 "cells": [
  {
   "cell_type": "code",
   "execution_count": null,
   "metadata": {},
   "outputs": [],
   "source": [
    "import cv2\n",
    "import numpy as np"
   ]
  },
  {
   "cell_type": "code",
   "execution_count": null,
   "metadata": {},
   "outputs": [],
   "source": [
    "#Hariscorner detection:\n",
    "img = cv2.imread('/Users/danieljoshua/Downloads/Aufnahme-160449-0013.png')\n",
    "gray_img = cv2.cvtColor(img, cv2.COLOR_BGR2GRAY)\n",
    "gray_img = np.float32(gray_img)\n",
    "\n",
    "dst = cv2.cornerHarris(gray_img, blockSize=2, ksize=3, k=0.04)\n",
    "\n",
    "# dilate to mark the corners\n",
    "dst = cv2.dilate(dst, None)\n",
    "img[dst > 0.01 * dst.max()] = [0, 255, 0]\n",
    "\n",
    "cv2.imshow('haris_corner', img)\n",
    "cv2.waitKey()"
   ]
  },
  {
   "cell_type": "code",
   "execution_count": null,
   "metadata": {},
   "outputs": [],
   "source": [
    "#image comparison with brute force:\n",
    "\n",
    "img1 = cv2.imread('/Users/danieljoshua/Downloads/Aufnahme-160449-0013.png', 0)\n",
    "img2 = cv2.imread('/Users/danieljoshua/Desktop/bdap image data set/Professor images/CutaneousMastocytoFig2.png', 0)\n",
    "\n",
    "orb = cv2.ORB_create(nfeatures=500)\n",
    "kp1, des1 = orb.detectAndCompute(img1, None)\n",
    "kp2, des2 = orb.detectAndCompute(img2, None)\n",
    "\n",
    "# matcher takes normType, which is set to cv2.NORM_L2 for SIFT and SURF, cv2.NORM_HAMMING for ORB, FAST and BRIEF\n",
    "bf = cv2.BFMatcher(cv2.NORM_HAMMING, crossCheck=True)\n",
    "matches = bf.match(des1, des2)\n",
    "matches = sorted(matches, key=lambda x: x.distance)\n",
    "# draw first 50 matches\n",
    "match_img = cv2.drawMatches(img1, kp1, img2, kp2, matches[:50], None)\n",
    "cv2.imshow('Matches', match_img)\n",
    "cv2.waitKey()"
   ]
  },
  {
   "cell_type": "code",
   "execution_count": null,
   "metadata": {},
   "outputs": [],
   "source": [
    "#template matching:\n",
    "#open the main image and convert it to gray scale image\n",
    "main_image = cv2.imread('/Users/danieljoshua/Downloads/Aufnahme-160449-0013.png')\n",
    "gray_image = cv2.cvtColor(main_image, cv2.COLOR_BGR2GRAY)\n",
    "#open the template as gray scale image\n",
    "template = cv2.imread('/Users/danieljoshua/Desktop/templateimage.png', 0)\n",
    "width, height = template.shape[::-1] #get the width and height\n",
    "#match the template using cv2.matchTemplate\n",
    "match = cv2.matchTemplate(gray_image, template, cv2.TM_CCOEFF_NORMED)\n",
    "threshold = 0.8\n",
    "position = np.where(match >= threshold) #get the location of template in the image\n",
    "for point in zip(*position[::-1]): #draw the rectangle around the matched template\n",
    "   cv2.rectangle(main_image, point, (point[0] + width, point[1] + height), (0, 204, 153), 0)\n",
    "cv2.imshow('Template Found', main_image)\n",
    "cv2.waitKey(0)"
   ]
  },
  {
   "cell_type": "code",
   "execution_count": null,
   "metadata": {},
   "outputs": [],
   "source": []
  }
 ],
 "metadata": {
  "kernelspec": {
   "display_name": "Python 3",
   "language": "python",
   "name": "python3"
  },
  "language_info": {
   "codemirror_mode": {
    "name": "ipython",
    "version": 3
   },
   "file_extension": ".py",
   "mimetype": "text/x-python",
   "name": "python",
   "nbconvert_exporter": "python",
   "pygments_lexer": "ipython3",
   "version": "3.7.6"
  }
 },
 "nbformat": 4,
 "nbformat_minor": 4
}
